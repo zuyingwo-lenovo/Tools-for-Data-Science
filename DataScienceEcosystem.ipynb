{
 "cells": [
  {
   "cell_type": "markdown",
   "id": "8ef41ec90d3bc208",
   "metadata": {},
   "source": [
    "Data Science Tools and Ecosystem"
   ]
  },
  {
   "cell_type": "markdown",
   "id": "df90a0b1-e6fd-4ec9-b8d3-1017f8bcd3bc",
   "metadata": {},
   "source": []
  },
  {
   "cell_type": "markdown",
   "id": "419333a1-1bf7-41b9-99e0-9750a5f003be",
   "metadata": {},
   "source": [
    "Exercise 3 - Create a markdown cell for an introduction"
   ]
  },
  {
   "cell_type": "markdown",
   "id": "6e3aa20c-6146-4d4d-aae5-a66279e1b037",
   "metadata": {},
   "source": [
    "In this notebook, Data Science Tools and Ecosystem are summarized."
   ]
  },
  {
   "cell_type": "code",
   "execution_count": null,
   "id": "8beef75d-ff87-44ec-94c2-b816a8ee072e",
   "metadata": {},
   "outputs": [],
   "source": []
  },
  {
   "cell_type": "markdown",
   "id": "0e7e59fe-0aa5-4be5-806d-37e585c90b5a",
   "metadata": {},
   "source": [
    "Exercise 4 - Create a markdown cell to list data science languages"
   ]
  },
  {
   "cell_type": "markdown",
   "id": "681ff05c-5ed8-45e5-8bb8-594636c51b79",
   "metadata": {},
   "source": [
    "Some of the popular languages that Data Scientists use are:\n",
    "Python\n",
    "R\n",
    "SQL\n"
   ]
  },
  {
   "cell_type": "code",
   "execution_count": null,
   "id": "93aafcde-0a31-4382-ae7a-797507c7cb43",
   "metadata": {},
   "outputs": [],
   "source": []
  },
  {
   "cell_type": "markdown",
   "id": "7488dbc0-a00e-4561-a571-cc322718f41d",
   "metadata": {},
   "source": [
    "Exercise 5 - Create a markdown cell to list data science libraries"
   ]
  },
  {
   "cell_type": "markdown",
   "id": "b03bd824-5c9c-405b-99c7-96d2fb507429",
   "metadata": {},
   "source": [
    "Some of the commonly used libraries used by Data Scientists include:\n",
    "NumPy\n",
    "Pandas\n",
    "Matplotlib\n",
    "Scikit-Learn (sklearn)\n",
    "TensorFlow \n",
    "PyTorch\n",
    "Seaborn\n",
    "Statsmodels"
   ]
  },
  {
   "cell_type": "code",
   "execution_count": null,
   "id": "b0d11539-710a-4939-a4b7-de986cc67e13",
   "metadata": {},
   "outputs": [],
   "source": []
  },
  {
   "cell_type": "markdown",
   "id": "0737c845-6546-488b-8721-58e0c9e515bb",
   "metadata": {},
   "source": [
    "Exercise 6 - Create a markdown cell with a table of Data Science tools"
   ]
  },
  {
   "cell_type": "markdown",
   "id": "30b232b9-7437-4f66-8a40-e121c9eb8591",
   "metadata": {},
   "source": [
    "Data Science Tools"
   ]
  },
  {
   "cell_type": "markdown",
   "id": "f1007847-770e-434f-9a8b-98b2ed0dfcf0",
   "metadata": {},
   "source": [
    "Weka"
   ]
  },
  {
   "cell_type": "markdown",
   "id": "cc901434-1f41-42b9-9a14-58919d2125c0",
   "metadata": {},
   "source": [
    "Scrapy"
   ]
  },
  {
   "cell_type": "markdown",
   "id": "9da1068f-129e-4954-86b7-cb5d6687927b",
   "metadata": {},
   "source": [
    "Pandas"
   ]
  },
  {
   "cell_type": "code",
   "execution_count": null,
   "id": "904bc096-00f5-4fa4-955d-c0ddbd5c75ab",
   "metadata": {},
   "outputs": [],
   "source": []
  },
  {
   "cell_type": "markdown",
   "id": "9a0d7398-12f9-48e5-8e5c-b5ba65846f6d",
   "metadata": {},
   "source": [
    "Exercise 7 - Create a markdown cell introducing arithmetic expression examples\n",
    "\n"
   ]
  },
  {
   "cell_type": "markdown",
   "id": "c2b8df2f-dae0-4a29-a53e-23724a07cd0c",
   "metadata": {},
   "source": [
    "<h3 align=\"center\">Below are a few examples of evaluating arithmetic expressions in Python.</h3> \n"
   ]
  },
  {
   "cell_type": "code",
   "execution_count": null,
   "id": "ab690cce-1c6e-4757-a1d2-beb77e278c1b",
   "metadata": {},
   "outputs": [],
   "source": []
  },
  {
   "cell_type": "code",
   "execution_count": null,
   "id": "a65e7a68-bce4-449e-851a-7155eb10bae5",
   "metadata": {},
   "outputs": [],
   "source": []
  },
  {
   "cell_type": "markdown",
   "id": "cb9e638b-6608-4478-a472-36efd7c83447",
   "metadata": {},
   "source": [
    "Exercise 8 - Create a code cell to multiply and add numbers\n",
    "\n"
   ]
  },
  {
   "cell_type": "code",
   "execution_count": 1,
   "id": "d60db234-83ae-4cf2-a088-884fcf3ce2a4",
   "metadata": {},
   "outputs": [
    {
     "data": {
      "text/plain": [
       "17"
      ]
     },
     "execution_count": 1,
     "metadata": {},
     "output_type": "execute_result"
    }
   ],
   "source": [
    "t=(3*4)+5 #This a simple arithmetic expression to mutiply then add integers\n",
    "\n",
    "t"
   ]
  },
  {
   "cell_type": "code",
   "execution_count": null,
   "id": "3ca2ccdd-c0e3-4d23-a527-ba6bb9ae6dc8",
   "metadata": {},
   "outputs": [],
   "source": []
  },
  {
   "cell_type": "markdown",
   "id": "87a0e1c5-1452-4741-8c63-41176c013815",
   "metadata": {},
   "source": [
    "Exercise 9 - Create a code cell to convert minutes to hours"
   ]
  },
  {
   "cell_type": "code",
   "execution_count": 2,
   "id": "848fd3bc-10b7-43f8-872d-756afab5d518",
   "metadata": {},
   "outputs": [
    {
     "data": {
      "text/plain": [
       "3.3333333333333335"
      ]
     },
     "execution_count": 2,
     "metadata": {},
     "output_type": "execute_result"
    }
   ],
   "source": [
    "# This will convert 200 minutes to hours by diving by 60\n",
    "min=200\n",
    "hour = min/60\n",
    "\n",
    "hour"
   ]
  },
  {
   "cell_type": "code",
   "execution_count": null,
   "id": "722f73d0-061b-4f03-84b8-c3f5d442603a",
   "metadata": {},
   "outputs": [],
   "source": []
  },
  {
   "cell_type": "markdown",
   "id": "ade3d7bb-9059-4a51-92bf-3f7aee1182ba",
   "metadata": {},
   "source": [
    "Exercise 10 - Insert a markdown cell to list Objectives"
   ]
  },
  {
   "cell_type": "code",
   "execution_count": null,
   "id": "b25ec78c-33c7-4b0e-83d0-04aec49aea7a",
   "metadata": {},
   "outputs": [],
   "source": []
  },
  {
   "cell_type": "code",
   "execution_count": null,
   "id": "5a090c72-9a6e-428e-a558-360bbbf25d2a",
   "metadata": {},
   "outputs": [],
   "source": []
  },
  {
   "cell_type": "code",
   "execution_count": null,
   "id": "700b1aa6-d280-4b2c-8ebe-5c0072f29b16",
   "metadata": {},
   "outputs": [],
   "source": []
  },
  {
   "cell_type": "code",
   "execution_count": null,
   "id": "542fc9a0-02fd-49d0-b438-f202c5875857",
   "metadata": {},
   "outputs": [],
   "source": []
  },
  {
   "cell_type": "code",
   "execution_count": null,
   "id": "5edf815c-6dcf-4766-aaed-c4fb7269b27f",
   "metadata": {},
   "outputs": [],
   "source": []
  },
  {
   "cell_type": "code",
   "execution_count": null,
   "id": "b5115a9e-f25c-44cd-b25d-731104e33c6a",
   "metadata": {},
   "outputs": [],
   "source": []
  }
 ],
 "metadata": {
  "kernelspec": {
   "display_name": "Python 3 (ipykernel)",
   "language": "python",
   "name": "python3"
  },
  "language_info": {
   "codemirror_mode": {
    "name": "ipython",
    "version": 3
   },
   "file_extension": ".py",
   "mimetype": "text/x-python",
   "name": "python",
   "nbconvert_exporter": "python",
   "pygments_lexer": "ipython3",
   "version": "3.12.2"
  }
 },
 "nbformat": 4,
 "nbformat_minor": 5
}
